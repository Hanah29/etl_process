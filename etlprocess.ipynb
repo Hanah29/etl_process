{
 "cells": [
  {
   "cell_type": "code",
   "execution_count": 1,
   "id": "4aecc444",
   "metadata": {},
   "outputs": [
    {
     "name": "stdout",
     "output_type": "stream",
     "text": [
      "Requirement already satisfied: pandas in c:\\users\\aaa\\anaconda3\\lib\\site-packages (2.2.2)\n",
      "Collecting psycopg2-binary\n",
      "  Downloading psycopg2_binary-2.9.11-cp312-cp312-win_amd64.whl.metadata (5.1 kB)\n",
      "Requirement already satisfied: python-dotenv in c:\\users\\aaa\\anaconda3\\lib\\site-packages (0.21.0)\n",
      "Requirement already satisfied: numpy>=1.26.0 in c:\\users\\aaa\\anaconda3\\lib\\site-packages (from pandas) (1.26.4)\n",
      "Requirement already satisfied: python-dateutil>=2.8.2 in c:\\users\\aaa\\appdata\\roaming\\python\\python312\\site-packages (from pandas) (2.9.0.post0)\n",
      "Requirement already satisfied: pytz>=2020.1 in c:\\users\\aaa\\anaconda3\\lib\\site-packages (from pandas) (2024.1)\n",
      "Requirement already satisfied: tzdata>=2022.7 in c:\\users\\aaa\\anaconda3\\lib\\site-packages (from pandas) (2023.3)\n",
      "Requirement already satisfied: six>=1.5 in c:\\users\\aaa\\appdata\\roaming\\python\\python312\\site-packages (from python-dateutil>=2.8.2->pandas) (1.17.0)\n",
      "Downloading psycopg2_binary-2.9.11-cp312-cp312-win_amd64.whl (2.7 MB)\n",
      "   ---------------------------------------- 0.0/2.7 MB ? eta -:--:--\n",
      "   ---------------------------------------- 0.0/2.7 MB ? eta -:--:--\n",
      "   ---------------------------------------- 0.0/2.7 MB ? eta -:--:--\n",
      "   --- ------------------------------------ 0.3/2.7 MB ? eta -:--:--\n",
      "   ------- -------------------------------- 0.5/2.7 MB 1.1 MB/s eta 0:00:02\n",
      "   ----------- ---------------------------- 0.8/2.7 MB 1.1 MB/s eta 0:00:02\n",
      "   ----------- ---------------------------- 0.8/2.7 MB 1.1 MB/s eta 0:00:02\n",
      "   ------------------- -------------------- 1.3/2.7 MB 1.0 MB/s eta 0:00:02\n",
      "   ----------------------- ---------------- 1.6/2.7 MB 1.1 MB/s eta 0:00:02\n",
      "   --------------------------- ------------ 1.8/2.7 MB 1.1 MB/s eta 0:00:01\n",
      "   ------------------------------ --------- 2.1/2.7 MB 1.2 MB/s eta 0:00:01\n",
      "   ------------------------------ --------- 2.1/2.7 MB 1.2 MB/s eta 0:00:01\n",
      "   ---------------------------------------- 2.7/2.7 MB 1.2 MB/s eta 0:00:00\n",
      "Installing collected packages: psycopg2-binary\n",
      "Successfully installed psycopg2-binary-2.9.11\n"
     ]
    }
   ],
   "source": [
    "!pip install pandas psycopg2-binary python-dotenv"
   ]
  },
  {
   "cell_type": "code",
   "execution_count": 2,
   "id": "952ca701",
   "metadata": {},
   "outputs": [],
   "source": [
    "# ##  Step 1. Setup and Import Libraries\n",
    "import os\n",
    "import pandas as pd\n",
    "import psycopg2\n",
    "from psycopg2 import extras\n",
    "from dotenv import load_dotenv\n",
    "from io import StringIO\n",
    "from pathlib import Path"
   ]
  },
  {
   "cell_type": "code",
   "execution_count": 3,
   "id": "b99f1af1",
   "metadata": {},
   "outputs": [],
   "source": [
    "# ##  Step 2. Load Environment Variables\n",
    "\n",
    "# Load variables from .env file\n",
    "load_dotenv()\n",
    "\n",
    "# Database settings\n",
    "DB_NAME = os.getenv(\"PG_DBNAME\")\n",
    "DB_USER = os.getenv(\"PG_USER\")\n",
    "DB_PASSWORD = os.getenv(\"PG_PASSWORD\")\n",
    "DB_HOST = os.getenv(\"PG_HOST\")\n",
    "DB_PORT = os.getenv(\"PG_PORT\")"
   ]
  },
  {
   "cell_type": "code",
   "execution_count": 4,
   "id": "88ad2904",
   "metadata": {},
   "outputs": [
    {
     "name": "stdout",
     "output_type": "stream",
     "text": [
      " Environment variables loaded successfully!\n"
     ]
    }
   ],
   "source": [
    "# File settings\n",
    "CSV_PATH = os.getenv(\"CSV_PATH\")\n",
    "CHUNK_SIZE = int(os.getenv(\"CHUNK_SIZE\", \"200000\"))\n",
    "TABLE_NAME = os.getenv(\"TABLE_NAME\", \"people\")\n",
    "\n",
    "print(\" Environment variables loaded successfully!\")\n"
   ]
  }
 ],
 "metadata": {
  "kernelspec": {
   "display_name": "base",
   "language": "python",
   "name": "python3"
  },
  "language_info": {
   "codemirror_mode": {
    "name": "ipython",
    "version": 3
   },
   "file_extension": ".py",
   "mimetype": "text/x-python",
   "name": "python",
   "nbconvert_exporter": "python",
   "pygments_lexer": "ipython3",
   "version": "3.12.7"
  }
 },
 "nbformat": 4,
 "nbformat_minor": 5
}
